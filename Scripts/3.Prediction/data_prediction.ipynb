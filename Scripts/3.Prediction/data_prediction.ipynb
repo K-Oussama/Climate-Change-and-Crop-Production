{
 "cells": [
  {
   "cell_type": "code",
   "execution_count": 104,
   "metadata": {},
   "outputs": [],
   "source": [
    "import pandas as pd\n",
    "import numpy as np"
   ]
  },
  {
   "cell_type": "code",
   "execution_count": 105,
   "metadata": {},
   "outputs": [],
   "source": [
    "df = pd.read_csv(\"../../Data/climate-prod_merged.csv\")"
   ]
  },
  {
   "cell_type": "code",
   "execution_count": 106,
   "metadata": {},
   "outputs": [
    {
     "data": {
      "text/html": [
       "<div>\n",
       "<style scoped>\n",
       "    .dataframe tbody tr th:only-of-type {\n",
       "        vertical-align: middle;\n",
       "    }\n",
       "\n",
       "    .dataframe tbody tr th {\n",
       "        vertical-align: top;\n",
       "    }\n",
       "\n",
       "    .dataframe thead th {\n",
       "        text-align: right;\n",
       "    }\n",
       "</style>\n",
       "<table border=\"1\" class=\"dataframe\">\n",
       "  <thead>\n",
       "    <tr style=\"text-align: right;\">\n",
       "      <th></th>\n",
       "      <th>Year</th>\n",
       "      <th>Production</th>\n",
       "      <th>AG.YLD.CREL.KG</th>\n",
       "      <th>EN.ATM.CO2E.KD.GD</th>\n",
       "      <th>EN.ATM.CO2E.PP.GD.KD</th>\n",
       "      <th>EN.ATM.METH.KT.CE</th>\n",
       "      <th>EN.ATM.NOXE.KT.CE</th>\n",
       "    </tr>\n",
       "  </thead>\n",
       "  <tbody>\n",
       "    <tr>\n",
       "      <th>0</th>\n",
       "      <td>2011</td>\n",
       "      <td>1.721402e+06</td>\n",
       "      <td>0.194827</td>\n",
       "      <td>1.597341</td>\n",
       "      <td>1.597341</td>\n",
       "      <td>-1.589776</td>\n",
       "      <td>-0.545064</td>\n",
       "    </tr>\n",
       "    <tr>\n",
       "      <th>1</th>\n",
       "      <td>2012</td>\n",
       "      <td>1.656891e+06</td>\n",
       "      <td>-1.050150</td>\n",
       "      <td>1.695985</td>\n",
       "      <td>1.695985</td>\n",
       "      <td>-1.327511</td>\n",
       "      <td>-1.479459</td>\n",
       "    </tr>\n",
       "    <tr>\n",
       "      <th>2</th>\n",
       "      <td>2013</td>\n",
       "      <td>1.928606e+06</td>\n",
       "      <td>0.640295</td>\n",
       "      <td>1.049797</td>\n",
       "      <td>1.049797</td>\n",
       "      <td>-0.773843</td>\n",
       "      <td>0.155733</td>\n",
       "    </tr>\n",
       "    <tr>\n",
       "      <th>3</th>\n",
       "      <td>2014</td>\n",
       "      <td>1.950982e+06</td>\n",
       "      <td>-0.138597</td>\n",
       "      <td>-0.664916</td>\n",
       "      <td>-0.664916</td>\n",
       "      <td>-0.220174</td>\n",
       "      <td>-0.056630</td>\n",
       "    </tr>\n",
       "    <tr>\n",
       "      <th>4</th>\n",
       "      <td>2015</td>\n",
       "      <td>1.924430e+06</td>\n",
       "      <td>1.290898</td>\n",
       "      <td>-0.803090</td>\n",
       "      <td>-0.803090</td>\n",
       "      <td>-0.016189</td>\n",
       "      <td>0.835293</td>\n",
       "    </tr>\n",
       "  </tbody>\n",
       "</table>\n",
       "</div>"
      ],
      "text/plain": [
       "   Year    Production  AG.YLD.CREL.KG  EN.ATM.CO2E.KD.GD  \\\n",
       "0  2011  1.721402e+06        0.194827           1.597341   \n",
       "1  2012  1.656891e+06       -1.050150           1.695985   \n",
       "2  2013  1.928606e+06        0.640295           1.049797   \n",
       "3  2014  1.950982e+06       -0.138597          -0.664916   \n",
       "4  2015  1.924430e+06        1.290898          -0.803090   \n",
       "\n",
       "   EN.ATM.CO2E.PP.GD.KD  EN.ATM.METH.KT.CE  EN.ATM.NOXE.KT.CE  \n",
       "0              1.597341          -1.589776          -0.545064  \n",
       "1              1.695985          -1.327511          -1.479459  \n",
       "2              1.049797          -0.773843           0.155733  \n",
       "3             -0.664916          -0.220174          -0.056630  \n",
       "4             -0.803090          -0.016189           0.835293  "
      ]
     },
     "execution_count": 106,
     "metadata": {},
     "output_type": "execute_result"
    }
   ],
   "source": [
    "df.head()"
   ]
  },
  {
   "cell_type": "code",
   "execution_count": 107,
   "metadata": {},
   "outputs": [],
   "source": [
    "# Convert the numbers in the 'Production' column to normal writing\n",
    "df['Production'] = df['Production'].apply(lambda x: f\"{x:.0f}\")"
   ]
  },
  {
   "cell_type": "code",
   "execution_count": 108,
   "metadata": {},
   "outputs": [
    {
     "data": {
      "text/html": [
       "<div>\n",
       "<style scoped>\n",
       "    .dataframe tbody tr th:only-of-type {\n",
       "        vertical-align: middle;\n",
       "    }\n",
       "\n",
       "    .dataframe tbody tr th {\n",
       "        vertical-align: top;\n",
       "    }\n",
       "\n",
       "    .dataframe thead th {\n",
       "        text-align: right;\n",
       "    }\n",
       "</style>\n",
       "<table border=\"1\" class=\"dataframe\">\n",
       "  <thead>\n",
       "    <tr style=\"text-align: right;\">\n",
       "      <th></th>\n",
       "      <th>Year</th>\n",
       "      <th>Production</th>\n",
       "      <th>AG.YLD.CREL.KG</th>\n",
       "      <th>EN.ATM.CO2E.KD.GD</th>\n",
       "      <th>EN.ATM.CO2E.PP.GD.KD</th>\n",
       "      <th>EN.ATM.METH.KT.CE</th>\n",
       "      <th>EN.ATM.NOXE.KT.CE</th>\n",
       "    </tr>\n",
       "  </thead>\n",
       "  <tbody>\n",
       "    <tr>\n",
       "      <th>0</th>\n",
       "      <td>2011</td>\n",
       "      <td>1721402</td>\n",
       "      <td>0.194827</td>\n",
       "      <td>1.597341</td>\n",
       "      <td>1.597341e+00</td>\n",
       "      <td>-1.589776e+00</td>\n",
       "      <td>-5.450639e-01</td>\n",
       "    </tr>\n",
       "    <tr>\n",
       "      <th>1</th>\n",
       "      <td>2012</td>\n",
       "      <td>1656891</td>\n",
       "      <td>-1.050150</td>\n",
       "      <td>1.695985</td>\n",
       "      <td>1.695985e+00</td>\n",
       "      <td>-1.327511e+00</td>\n",
       "      <td>-1.479459e+00</td>\n",
       "    </tr>\n",
       "    <tr>\n",
       "      <th>2</th>\n",
       "      <td>2013</td>\n",
       "      <td>1928606</td>\n",
       "      <td>0.640295</td>\n",
       "      <td>1.049797</td>\n",
       "      <td>1.049797e+00</td>\n",
       "      <td>-7.738427e-01</td>\n",
       "      <td>1.557326e-01</td>\n",
       "    </tr>\n",
       "    <tr>\n",
       "      <th>3</th>\n",
       "      <td>2014</td>\n",
       "      <td>1950982</td>\n",
       "      <td>-0.138597</td>\n",
       "      <td>-0.664916</td>\n",
       "      <td>-6.649159e-01</td>\n",
       "      <td>-2.201743e-01</td>\n",
       "      <td>-5.663002e-02</td>\n",
       "    </tr>\n",
       "    <tr>\n",
       "      <th>4</th>\n",
       "      <td>2015</td>\n",
       "      <td>1924430</td>\n",
       "      <td>1.290898</td>\n",
       "      <td>-0.803090</td>\n",
       "      <td>-8.030896e-01</td>\n",
       "      <td>-1.618892e-02</td>\n",
       "      <td>8.352928e-01</td>\n",
       "    </tr>\n",
       "    <tr>\n",
       "      <th>5</th>\n",
       "      <td>2016</td>\n",
       "      <td>1743616</td>\n",
       "      <td>-1.218007</td>\n",
       "      <td>-0.870150</td>\n",
       "      <td>-8.701504e-01</td>\n",
       "      <td>3.334968e-01</td>\n",
       "      <td>-1.840476e+00</td>\n",
       "    </tr>\n",
       "    <tr>\n",
       "      <th>6</th>\n",
       "      <td>2017</td>\n",
       "      <td>1924872</td>\n",
       "      <td>0.493055</td>\n",
       "      <td>-0.846646</td>\n",
       "      <td>-8.466455e-01</td>\n",
       "      <td>6.249029e-01</td>\n",
       "      <td>1.090128e+00</td>\n",
       "    </tr>\n",
       "    <tr>\n",
       "      <th>7</th>\n",
       "      <td>2018</td>\n",
       "      <td>1869149</td>\n",
       "      <td>1.546850</td>\n",
       "      <td>-0.924252</td>\n",
       "      <td>-9.242516e-01</td>\n",
       "      <td>1.207712e+00</td>\n",
       "      <td>1.429908e+00</td>\n",
       "    </tr>\n",
       "    <tr>\n",
       "      <th>8</th>\n",
       "      <td>2019</td>\n",
       "      <td>1956711</td>\n",
       "      <td>-0.139013</td>\n",
       "      <td>-0.234069</td>\n",
       "      <td>-2.340690e-01</td>\n",
       "      <td>1.761381e+00</td>\n",
       "      <td>4.105676e-01</td>\n",
       "    </tr>\n",
       "    <tr>\n",
       "      <th>9</th>\n",
       "      <td>2020</td>\n",
       "      <td>1707068</td>\n",
       "      <td>-1.620157</td>\n",
       "      <td>0.000000</td>\n",
       "      <td>-2.499255e-15</td>\n",
       "      <td>5.300627e-15</td>\n",
       "      <td>-3.862853e-15</td>\n",
       "    </tr>\n",
       "  </tbody>\n",
       "</table>\n",
       "</div>"
      ],
      "text/plain": [
       "   Year Production  AG.YLD.CREL.KG  EN.ATM.CO2E.KD.GD  EN.ATM.CO2E.PP.GD.KD  \\\n",
       "0  2011    1721402        0.194827           1.597341          1.597341e+00   \n",
       "1  2012    1656891       -1.050150           1.695985          1.695985e+00   \n",
       "2  2013    1928606        0.640295           1.049797          1.049797e+00   \n",
       "3  2014    1950982       -0.138597          -0.664916         -6.649159e-01   \n",
       "4  2015    1924430        1.290898          -0.803090         -8.030896e-01   \n",
       "5  2016    1743616       -1.218007          -0.870150         -8.701504e-01   \n",
       "6  2017    1924872        0.493055          -0.846646         -8.466455e-01   \n",
       "7  2018    1869149        1.546850          -0.924252         -9.242516e-01   \n",
       "8  2019    1956711       -0.139013          -0.234069         -2.340690e-01   \n",
       "9  2020    1707068       -1.620157           0.000000         -2.499255e-15   \n",
       "\n",
       "   EN.ATM.METH.KT.CE  EN.ATM.NOXE.KT.CE  \n",
       "0      -1.589776e+00      -5.450639e-01  \n",
       "1      -1.327511e+00      -1.479459e+00  \n",
       "2      -7.738427e-01       1.557326e-01  \n",
       "3      -2.201743e-01      -5.663002e-02  \n",
       "4      -1.618892e-02       8.352928e-01  \n",
       "5       3.334968e-01      -1.840476e+00  \n",
       "6       6.249029e-01       1.090128e+00  \n",
       "7       1.207712e+00       1.429908e+00  \n",
       "8       1.761381e+00       4.105676e-01  \n",
       "9       5.300627e-15      -3.862853e-15  "
      ]
     },
     "execution_count": 108,
     "metadata": {},
     "output_type": "execute_result"
    }
   ],
   "source": [
    "df"
   ]
  },
  {
   "cell_type": "code",
   "execution_count": 111,
   "metadata": {},
   "outputs": [],
   "source": [
    "#X = df.iloc[:, 2:]#.values\n",
    "#y = df.iloc[:, 1].values"
   ]
  },
  {
   "cell_type": "code",
   "execution_count": 58,
   "metadata": {},
   "outputs": [],
   "source": [
    "#from sklearn.model_selection import train_test_split\n",
    "#x_train, x_test, y_train, y_test = train_test_split(X, y, test_size=0.2, random_state=0)"
   ]
  },
  {
   "cell_type": "code",
   "execution_count": 124,
   "metadata": {},
   "outputs": [],
   "source": [
    "X_train = df.iloc[:7, 2:]#.values\n",
    "y_train = df.iloc[:7, 1].values\n",
    "y_train = y_train.astype(float)\n",
    "\n",
    "X_test = df.iloc[7:, 2:]#.values\n",
    "y_test = df.iloc[7:, 1].values\n",
    "y_test = y_test.astype(float)"
   ]
  },
  {
   "cell_type": "code",
   "execution_count": 166,
   "metadata": {},
   "outputs": [],
   "source": [
    "from sklearn.ensemble import RandomForestRegressor\n",
    "from sklearn.metrics import mean_squared_error"
   ]
  },
  {
   "cell_type": "code",
   "execution_count": 289,
   "metadata": {},
   "outputs": [],
   "source": [
    "#from sklearn.model_selection import GridSearchCV\n",
    "#grid_search = GridSearchCV(RandomForestRegressor(), param_grid={'n_estimators': [10, 100, 150]}, cv=5, scoring='neg_mean_squared_error')\n",
    "#grid_search.fit(x_train, y_train)\n",
    "#print(\"Best parameters:\", grid_search.best_params_)\n",
    "#print(\"MSE:\", -grid_search.best_score_)"
   ]
  },
  {
   "cell_type": "code",
   "execution_count": 170,
   "metadata": {},
   "outputs": [],
   "source": [
    "model = RandomForestRegressor(n_estimators=50) #n_estimators=10"
   ]
  },
  {
   "cell_type": "code",
   "execution_count": 171,
   "metadata": {},
   "outputs": [
    {
     "data": {
      "text/plain": [
       "RandomForestRegressor(n_estimators=50)"
      ]
     },
     "execution_count": 171,
     "metadata": {},
     "output_type": "execute_result"
    }
   ],
   "source": [
    "model.fit(X_train, y_train)"
   ]
  },
  {
   "cell_type": "code",
   "execution_count": 172,
   "metadata": {},
   "outputs": [],
   "source": [
    "y_pred = model.predict(X_test)"
   ]
  },
  {
   "cell_type": "code",
   "execution_count": 181,
   "metadata": {},
   "outputs": [],
   "source": [
    "# Evaluate R2 score\n",
    "#model.score(X_test, y_test)\n",
    "# Evaluate the model using Mean Squared Error (MSE)\n",
    "#mse = mean_squared_error(y_test, y_pred)\n",
    "#print(\"Mean Squared Error (MSE): \", mse)"
   ]
  },
  {
   "cell_type": "code",
   "execution_count": 178,
   "metadata": {},
   "outputs": [
    {
     "data": {
      "text/html": [
       "<div>\n",
       "<style scoped>\n",
       "    .dataframe tbody tr th:only-of-type {\n",
       "        vertical-align: middle;\n",
       "    }\n",
       "\n",
       "    .dataframe tbody tr th {\n",
       "        vertical-align: top;\n",
       "    }\n",
       "\n",
       "    .dataframe thead th {\n",
       "        text-align: right;\n",
       "    }\n",
       "</style>\n",
       "<table border=\"1\" class=\"dataframe\">\n",
       "  <thead>\n",
       "    <tr style=\"text-align: right;\">\n",
       "      <th></th>\n",
       "      <th>AG.YLD.CREL.KG</th>\n",
       "      <th>EN.ATM.CO2E.KD.GD</th>\n",
       "      <th>EN.ATM.CO2E.PP.GD.KD</th>\n",
       "      <th>EN.ATM.METH.KT.CE</th>\n",
       "      <th>EN.ATM.NOXE.KT.CE</th>\n",
       "    </tr>\n",
       "  </thead>\n",
       "  <tbody>\n",
       "    <tr>\n",
       "      <th>0</th>\n",
       "      <td>742.9</td>\n",
       "      <td>0.590803</td>\n",
       "      <td>0.241253</td>\n",
       "      <td>11555.555662</td>\n",
       "      <td>8696.666667</td>\n",
       "    </tr>\n",
       "  </tbody>\n",
       "</table>\n",
       "</div>"
      ],
      "text/plain": [
       "   AG.YLD.CREL.KG  EN.ATM.CO2E.KD.GD  EN.ATM.CO2E.PP.GD.KD  EN.ATM.METH.KT.CE  \\\n",
       "0           742.9           0.590803              0.241253       11555.555662   \n",
       "\n",
       "   EN.ATM.NOXE.KT.CE  \n",
       "0        8696.666667  "
      ]
     },
     "execution_count": 178,
     "metadata": {},
     "output_type": "execute_result"
    }
   ],
   "source": [
    "import numpy as np\n",
    "\n",
    "# Create a new dataframe with the features of the new data point\n",
    "# Year = 2023\n",
    "new_data = pd.DataFrame({\n",
    "    'AG.YLD.CREL.KG': [742.9], # Cereal yield (kg per hectare)\n",
    "    'EN.ATM.CO2E.KD.GD': [0.590803], # CO2 emissions (kg per 2015 US$ of GDP)\n",
    "    'EN.ATM.CO2E.PP.GD.KD': [0.241253], # CO2 emissions (kg per PPP $ of GDP)\n",
    "    'EN.ATM.METH.KT.CE': [11555.555662], # Methane emissions (kt of CO2 equivalent)\n",
    "    'EN.ATM.NOXE.KT.CE': [8696.666667] # Nitrous oxide emissions (thousand metric tons of CO2 equivalent)\n",
    "})\n",
    "new_data"
   ]
  },
  {
   "cell_type": "code",
   "execution_count": 179,
   "metadata": {},
   "outputs": [
    {
     "name": "stdout",
     "output_type": "stream",
     "text": [
      "Predicted production of Potatoes in (tonnes) :  1928351.72\n"
     ]
    }
   ],
   "source": [
    "# Make predictions using the trained model\n",
    "y_pred = model.predict(new_data)\n",
    "\n",
    "# Print the predicted value\n",
    "print(\"Predicted production of Potatoes in (tonnes) : \",np.round(y_pred[0], 3))"
   ]
  }
 ],
 "metadata": {
  "kernelspec": {
   "display_name": "base",
   "language": "python",
   "name": "python3"
  },
  "language_info": {
   "codemirror_mode": {
    "name": "ipython",
    "version": 3
   },
   "file_extension": ".py",
   "mimetype": "text/x-python",
   "name": "python",
   "nbconvert_exporter": "python",
   "pygments_lexer": "ipython3",
   "version": "3.9.13"
  },
  "orig_nbformat": 4
 },
 "nbformat": 4,
 "nbformat_minor": 2
}
